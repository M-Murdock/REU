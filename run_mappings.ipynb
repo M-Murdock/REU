{
 "cells": [
  {
   "cell_type": "markdown",
   "metadata": {},
   "source": [
    "Obtains the centroids for each cluster in two given datasets, then calculates the euclidean distances between each of these clusters and stores them in an excel sheet. \n",
    "\n",
    "Note: this notebook should be used to run find_mappings.ipynb"
   ]
  },
  {
   "cell_type": "markdown",
   "metadata": {},
   "source": [
    "# Imports"
   ]
  },
  {
   "cell_type": "code",
   "execution_count": 43,
   "metadata": {},
   "outputs": [],
   "source": [
    "import pandas as pd\n",
    "from sklearn.cluster import KMeans"
   ]
  },
  {
   "cell_type": "markdown",
   "metadata": {},
   "source": [
    "# Find the centroids and pass them to find_mappings"
   ]
  },
  {
   "cell_type": "markdown",
   "metadata": {},
   "source": [
    "Note: put the two datasets (1-13) you wish to compare into the tuple below"
   ]
  },
  {
   "cell_type": "code",
   "execution_count": 44,
   "metadata": {},
   "outputs": [],
   "source": [
    "# a tuple of which files we will compare\n",
    "file_nums = (10, 11)"
   ]
  },
  {
   "cell_type": "code",
   "execution_count": 45,
   "metadata": {},
   "outputs": [],
   "source": [
    "# create an empty list for storing the centroids\n",
    "centroids_list = []\n",
    "\n",
    "# go through each file and calculate the centroids\n",
    "# --------------------\n",
    "index = 0\n",
    "for num in file_nums:\n",
    "    centroids_list.append(list())\n",
    "    \n",
    "    # obtain the clean data from dataset x\n",
    "    no_outliers = pd.read_csv(\"working_data/no_outliers{}.csv\".format(num))\n",
    "    x = no_outliers.iloc[:,1:14]\n",
    "\n",
    "    # find the centroids for dataset x\n",
    "    kmeans = KMeans(n_clusters=30)\n",
    "    kmeans.fit(x)\n",
    "    identified_clusters = kmeans.fit_predict(x)\n",
    "    \n",
    "    # save the centroids to a list \n",
    "    centroids_list[index].append(kmeans.cluster_centers_)\n",
    "    \n",
    "    index += 1\n",
    "    \n",
    "# run find_mappings, which will use the list of centroids calculated above\n",
    "%run find_mappings.ipynb"
   ]
  }
 ],
 "metadata": {
  "kernelspec": {
   "display_name": "Python 3",
   "language": "python",
   "name": "python3"
  },
  "language_info": {
   "codemirror_mode": {
    "name": "ipython",
    "version": 3
   },
   "file_extension": ".py",
   "mimetype": "text/x-python",
   "name": "python",
   "nbconvert_exporter": "python",
   "pygments_lexer": "ipython3",
   "version": "3.8.5"
  }
 },
 "nbformat": 4,
 "nbformat_minor": 4
}
