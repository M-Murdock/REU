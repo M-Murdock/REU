{
 "cells": [
  {
   "cell_type": "markdown",
   "metadata": {},
   "source": [
    "combines all of the the re-labeled datasets into a single csv"
   ]
  },
  {
   "cell_type": "code",
   "execution_count": 5,
   "metadata": {},
   "outputs": [],
   "source": [
    "import pandas as pd\n",
    "from pandas import DataFrame"
   ]
  },
  {
   "cell_type": "code",
   "execution_count": 9,
   "metadata": {},
   "outputs": [
    {
     "name": "stdout",
     "output_type": "stream",
     "text": [
      "['relabeled_data/botnet1.csv', 'relabeled_data/botnet2.csv', 'relabeled_data/botnet3.csv', 'relabeled_data/botnet4.csv', 'relabeled_data/botnet5.csv', 'relabeled_data/botnet6.csv', 'relabeled_data/botnet7.csv', 'relabeled_data/botnet8.csv', 'relabeled_data/botnet13.csv']\n"
     ]
    }
   ],
   "source": [
    "all_files = [None]*9\n",
    "index = 0\n",
    "for i in range (1,14):\n",
    "    if i == 9 or i == 10 or i == 11 or i == 12:\n",
    "        continue\n",
    "    all_files[index] = \"relabeled_data/botnet{}.csv\".format(i)\n",
    "    index += 1\n",
    "    \n",
    "print(all_files)"
   ]
  },
  {
   "cell_type": "code",
   "execution_count": 10,
   "metadata": {},
   "outputs": [],
   "source": [
    "df = pd.concat((pd.read_csv(f) for f in all_files))"
   ]
  },
  {
   "cell_type": "code",
   "execution_count": 12,
   "metadata": {},
   "outputs": [],
   "source": [
    "df.to_csv(\"combined_data/combined_datasets.csv\", index=False)"
   ]
  },
  {
   "cell_type": "code",
   "execution_count": null,
   "metadata": {},
   "outputs": [],
   "source": []
  }
 ],
 "metadata": {
  "kernelspec": {
   "display_name": "Python 3",
   "language": "python",
   "name": "python3"
  },
  "language_info": {
   "codemirror_mode": {
    "name": "ipython",
    "version": 3
   },
   "file_extension": ".py",
   "mimetype": "text/x-python",
   "name": "python",
   "nbconvert_exporter": "python",
   "pygments_lexer": "ipython3",
   "version": "3.8.5"
  }
 },
 "nbformat": 4,
 "nbformat_minor": 4
}
