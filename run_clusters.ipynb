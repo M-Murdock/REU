{
 "cells": [
  {
   "cell_type": "markdown",
   "metadata": {},
   "source": [
    "cleans each dataset and stores the results of k-means clustering as excel files"
   ]
  },
  {
   "cell_type": "code",
   "execution_count": 24,
   "metadata": {},
   "outputs": [
    {
     "name": "stdout",
     "output_type": "stream",
     "text": [
      "clustering data\n",
      "1\n",
      "success!\n",
      "clustering data\n",
      "2\n",
      "success!\n",
      "clustering data\n",
      "3\n",
      "success!\n",
      "clustering data\n",
      "4\n",
      "success!\n",
      "clustering data\n",
      "5\n",
      "success!\n",
      "clustering data\n",
      "6\n",
      "success!\n",
      "clustering data\n",
      "7\n",
      "success!\n",
      "clustering data\n",
      "8\n",
      "success!\n",
      "clustering data\n",
      "9\n",
      "success!\n",
      "clustering data\n",
      "10\n",
      "success!\n",
      "clustering data\n",
      "11\n",
      "success!\n",
      "clustering data\n",
      "12\n",
      "success!\n",
      "clustering data\n",
      "13\n",
      "success!\n"
     ]
    }
   ],
   "source": [
    "file = 0\n",
    "for i in range (1,14):\n",
    "    file = i\n",
    "#     %run clean_data.ipynb\n",
    "    %run write_clusters.ipynb"
   ]
  },
  {
   "cell_type": "code",
   "execution_count": null,
   "metadata": {},
   "outputs": [],
   "source": []
  },
  {
   "cell_type": "code",
   "execution_count": null,
   "metadata": {},
   "outputs": [],
   "source": []
  }
 ],
 "metadata": {
  "kernelspec": {
   "display_name": "Python 3",
   "language": "python",
   "name": "python3"
  },
  "language_info": {
   "codemirror_mode": {
    "name": "ipython",
    "version": 3
   },
   "file_extension": ".py",
   "mimetype": "text/x-python",
   "name": "python",
   "nbconvert_exporter": "python",
   "pygments_lexer": "ipython3",
   "version": "3.8.5"
  }
 },
 "nbformat": 4,
 "nbformat_minor": 4
}
