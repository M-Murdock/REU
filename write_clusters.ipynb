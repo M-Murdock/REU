{
 "cells": [
  {
   "cell_type": "markdown",
   "metadata": {},
   "source": [
    "# Imports"
   ]
  },
  {
   "cell_type": "code",
   "execution_count": 36,
   "metadata": {},
   "outputs": [],
   "source": [
    "import numpy as np\n",
    "import pandas as pd\n",
    "from sklearn.cluster import KMeans\n",
    "from sklearn import preprocessing\n",
    "from pandas import DataFrame"
   ]
  },
  {
   "cell_type": "markdown",
   "metadata": {},
   "source": [
    "# K-Means Clustering"
   ]
  },
  {
   "cell_type": "code",
   "execution_count": 37,
   "metadata": {},
   "outputs": [],
   "source": [
    "# grab data\n",
    "data = pd.read_csv('working_data/no_outliers.csv')\n",
    "\n",
    "# get all the features except StartTime and Label\n",
    "x = no_outliers.iloc[:,1:14]\n"
   ]
  },
  {
   "cell_type": "code",
   "execution_count": 38,
   "metadata": {
    "scrolled": true
   },
   "outputs": [],
   "source": [
    "#counts the number of botnets and benign flows in each cluster, given a list of the labels and the # clusters\n",
    "def count_groups(n, labels, centroids):\n",
    "    # Make a list of dictionaries for storing counts of botnet and benign flows for each cluster\n",
    "    counts = list()\n",
    "    \n",
    "    for index in range(0, n):\n",
    "#         counts.append( {'label': 0, 'centroid': list()} )\n",
    "        counts.append({})\n",
    "\n",
    "    #Iterate through each individual cluster\n",
    "    for index in range(0, len(labels)):\n",
    "        \n",
    "        try:\n",
    "            counts[labels[index]][no_outliers['Label'][index]] += 1\n",
    "        except:\n",
    "            counts[labels[index]][no_outliers['Label'][index]] = 0\n",
    "            \n",
    "            \n",
    "#         counts[labels[index]]['label'] = labels[index]\n",
    "#         counts[labels[index]]['centroid'] = centroids[labels[index]]\n",
    "            \n",
    "    return counts\n"
   ]
  },
  {
   "cell_type": "code",
   "execution_count": 39,
   "metadata": {
    "scrolled": true
   },
   "outputs": [
    {
     "name": "stdout",
     "output_type": "stream",
     "text": [
      "success!\n"
     ]
    }
   ],
   "source": [
    "# For each cluster, print out the number of types of each botnet and benign \n",
    "import xlwt\n",
    "from xlwt import Workbook\n",
    "\n",
    "\n",
    "kmeans = KMeans(n_clusters=30)\n",
    "kmeans.fit(x)\n",
    "identified_clusters = kmeans.fit_predict(x)\n",
    "centroids = kmeans.cluster_centers_\n",
    "labels = kmeans.labels_\n",
    "clusters_set = count_groups(30, labels, centroids)\n",
    "\n",
    "\n",
    "    \n",
    "# Write cluster info to excel sheet\n",
    "\n",
    "# create workbook\n",
    "wb = Workbook()\n",
    "\n",
    "# create sheet\n",
    "sheet1 = wb.add_sheet('Dataset_42')\n",
    "\n",
    "\n",
    "# Make the header the list of botnet/benign types\n",
    "header = set().union(*(d.keys() for d in clusters_set))\n",
    "header = list(header)\n",
    "# Convert the dictionary values to a list of lists\n",
    "rows = list()\n",
    "i = 1\n",
    "for cluster in clusters_set:\n",
    "    row = list()\n",
    "    row.append(i)\n",
    "    for item in header:\n",
    "        try:\n",
    "            row.append(cluster[item])\n",
    "        except:\n",
    "            row.append(0)\n",
    "    rows.append(row)\n",
    "    i+=1\n",
    "    \n",
    "\n",
    "header.insert(0, 'Cluster #')\n",
    "\n",
    "for col in range(0, len(header)):\n",
    "#     print(header[col])\n",
    "\n",
    "    # print column header\n",
    "    sheet1.write(0, col, header[col])\n",
    "    # print each row in column\n",
    "    for row in range(0, len(rows)):\n",
    "        sheet1.write(row+1, col, rows[row][col])\n",
    "\n",
    "print('success!')\n",
    "\n",
    "    \n",
    "wb.save('working_data/clusters_chart.xls')"
   ]
  },
  {
   "cell_type": "code",
   "execution_count": 40,
   "metadata": {},
   "outputs": [
    {
     "name": "stdout",
     "output_type": "stream",
     "text": [
      "2010\n",
      "168592\n"
     ]
    }
   ],
   "source": [
    "print(len(botnets))\n",
    "print(len(benign))"
   ]
  },
  {
   "cell_type": "markdown",
   "metadata": {},
   "source": [
    "# Useful Resources:\n",
    "\n",
    "https://www.geeksforgeeks.org/convert-a-categorical-variable-into-dummy-variables/?ref=rp"
   ]
  }
 ],
 "metadata": {
  "kernelspec": {
   "display_name": "Python 3",
   "language": "python",
   "name": "python3"
  }
 },
 "nbformat": 4,
 "nbformat_minor": 4
}
