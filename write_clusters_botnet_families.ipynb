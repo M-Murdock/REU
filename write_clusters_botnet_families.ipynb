{
 "cells": [
  {
   "cell_type": "markdown",
   "metadata": {},
   "source": [
    "Given a cleaned dataset, performs k-means clustering and calculates the number of malware in each cluster. It then graphs this and saves the results to an excel sheet. "
   ]
  },
  {
   "cell_type": "markdown",
   "metadata": {},
   "source": [
    "# Imports"
   ]
  },
  {
   "cell_type": "code",
   "execution_count": 58,
   "metadata": {},
   "outputs": [],
   "source": [
    "import numpy as np\n",
    "import pandas as pd\n",
    "from sklearn.cluster import KMeans\n",
    "from sklearn import preprocessing\n",
    "import xlwt\n",
    "from xlwt import Workbook"
   ]
  },
  {
   "cell_type": "markdown",
   "metadata": {},
   "source": [
    "# Perform K-Means Clustering"
   ]
  },
  {
   "cell_type": "markdown",
   "metadata": {},
   "source": [
    "Define the number of clusters"
   ]
  },
  {
   "cell_type": "code",
   "execution_count": 59,
   "metadata": {},
   "outputs": [],
   "source": [
    "NUM_CLUSTERS = 15"
   ]
  },
  {
   "cell_type": "code",
   "execution_count": 60,
   "metadata": {},
   "outputs": [],
   "source": [
    "# grab data\n",
    "botnets = pd.read_csv(\"combined_data/combined_datasets.csv\")\n",
    "\n",
    "# get all the features except StartTime and Label\n",
    "x = botnets.iloc[:,1:14]\n",
    "botnet_header = botnets['Label'].tolist()"
   ]
  },
  {
   "cell_type": "code",
   "execution_count": 61,
   "metadata": {
    "scrolled": true
   },
   "outputs": [],
   "source": [
    "# Counts the number of botnets and benign flows in each cluster, given a list of \n",
    "# the labels and the # of clusters\n",
    "# -------------------\n",
    "\n",
    "def count_groups(n, labels, centroids):\n",
    "    \n",
    "    # Make a list of dictionaries for storing counts of botnet and benign flows \n",
    "    # for each cluster\n",
    "    counts = list()\n",
    "    \n",
    "    for index in range(0, n):\n",
    "        counts.append({})\n",
    "\n",
    "    # Iterate through each individual cluster\n",
    "    for index in range(0, len(labels)):\n",
    "        \n",
    "        # If we encounter more than one malware/non-malware of the same type\n",
    "        try:\n",
    "            counts[labels[index]][botnets['Label'][index]] += 1\n",
    "        except:\n",
    "            counts[labels[index]][botnets['Label'][index]] = 0\n",
    "            \n",
    "            \n",
    "    return counts\n"
   ]
  },
  {
   "cell_type": "code",
   "execution_count": 62,
   "metadata": {},
   "outputs": [],
   "source": [
    "# Perform k-means clustering on dataset x\n",
    "\n",
    "kmeans = KMeans(n_clusters=NUM_CLUSTERS)\n",
    "kmeans.fit(x)\n",
    "centroids = kmeans.cluster_centers_\n",
    "labels = kmeans.labels_\n",
    "clusters_set = count_groups(NUM_CLUSTERS, labels, centroids)"
   ]
  },
  {
   "cell_type": "code",
   "execution_count": 63,
   "metadata": {
    "scrolled": true
   },
   "outputs": [],
   "source": [
    "# Write table of malware counts to excel sheet\n",
    "# ---------------\n",
    "\n",
    "# create workbook\n",
    "wb = Workbook()\n",
    "\n",
    "# create sheets\n",
    "sheet1 = wb.add_sheet('botnet')\n",
    "\n",
    "# Create the table header the list of botnet/benign types\n",
    "header = set().union(*(d.keys() for d in clusters_set))\n",
    "header = list(header)\n",
    "\n",
    "# Convert the dictionary values to a list of lists\n",
    "rows = list()\n",
    "i = 1\n",
    "for cluster in clusters_set:\n",
    "    row = list()\n",
    "    for item in header:\n",
    "        try:\n",
    "            row.append(cluster[item])\n",
    "        except:\n",
    "            row.append(0)\n",
    "    rows.append(row)\n",
    "    i+=1\n",
    "    \n",
    "\n",
    "bot_col = 0\n",
    "\n",
    "# dictionary for storing the counts of malware + non-malware in each cluster\n",
    "combined_data = {'malware': [0] * len(rows)}\n",
    "\n",
    "\n",
    "# write table of malware to excel sheet\n",
    "for col in range(0, len(header)):\n",
    "    \n",
    "    # check to see if the column has any counts over 0 (contains any malware)\n",
    "    nonZero = 0\n",
    "    for row in range(0, len(rows)):\n",
    "        if rows[row][col] != 0:\n",
    "            nonZero = 1\n",
    "            \n",
    "    # if the column contains no data, there is no need to print it\n",
    "    # otherwise, proceed\n",
    "    if nonZero != 0:\n",
    "        \n",
    "        # write table of malware\n",
    "        # -----------------\n",
    "        \n",
    "        # if the column is for holding counts of malware\n",
    "        # print header\n",
    "        sheet1.write(0, bot_col, header[col])\n",
    "\n",
    "        # print each row in column\n",
    "        for row in range(0, len(rows)):\n",
    "            # if the value is 0, print a blank instead\n",
    "            if rows[row][col] == 0:\n",
    "                sheet1.write(row+1, bot_col, '')\n",
    "            # write the count to the table\n",
    "            else:\n",
    "                sheet1.write(row+1, bot_col, rows[row][col])\n",
    "                # update the total count of malware for the cluster\n",
    "                combined_data['malware'][row] += (rows[row][col])\n",
    "                    \n",
    "        bot_col += 1\n",
    "            \n",
    "\n",
    "\n",
    "# Save excel sheet\n",
    "FILE = \"combined_data/combined_clusters_chart.xls\"\n",
    "wb.save(FILE)\n",
    "\n",
    "\n",
    "# create dataframes from the excel sheets\n",
    "botnet_df = pd.read_excel(\"combined_data/combined_clusters_chart.xls\", sheet_name=0)\n",
    "\n",
    "cat_botnet = list(botnet_df.columns.values)\n",
    "botnet_df.set_index(cat_botnet, inplace=True)\n"
   ]
  },
  {
   "cell_type": "code",
   "execution_count": 64,
   "metadata": {},
   "outputs": [],
   "source": [
    "\n",
    "# create charts from the dataframes, store the new excel sheet in the results folder\n",
    "# --------------\n",
    "\n",
    "# create writer\n",
    "writer = pd.ExcelWriter(\"combined_data/combined_clusters_graph.xls\", engine='xlsxwriter')\n",
    "botnet_df.to_excel(writer, sheet_name='botnet')\n",
    "\n",
    "# create workbook/worksheets\n",
    "workbook = writer.book\n",
    "mal_ws = writer.sheets['botnet']\n",
    "\n",
    "# create two stacked bar charts\n",
    "mal_chart = workbook.add_chart({'type': 'bar', 'subtype': 'stacked'}) \n",
    "\n",
    "# Configure the charts from the dataframe data\n",
    "for col_num in range(1, len(cat_botnet) + 1):\n",
    "    \n",
    "    letter = chr(ord('@')+col_num)\n",
    "    str = '=botnet!${}$1:${}{}'.format(letter, letter, NUM_CLUSTERS)\n",
    "    \n",
    "    mal_chart.add_series({\n",
    "        'name': cat_botnet[col_num-1],\n",
    "        'values': str,\n",
    "    })\n",
    "    \n",
    "\n",
    "# insert charts\n",
    "mal_ws.insert_chart('A40', mal_chart)\n",
    "writer.save()"
   ]
  },
  {
   "cell_type": "code",
   "execution_count": 65,
   "metadata": {},
   "outputs": [
    {
     "name": "stdout",
     "output_type": "stream",
     "text": [
      "success!\n"
     ]
    }
   ],
   "source": [
    "print('success!')"
   ]
  }
 ],
 "metadata": {
  "kernelspec": {
   "display_name": "Python 3",
   "language": "python",
   "name": "python3"
  },
  "language_info": {
   "codemirror_mode": {
    "name": "ipython",
    "version": 3
   },
   "file_extension": ".py",
   "mimetype": "text/x-python",
   "name": "python",
   "nbconvert_exporter": "python",
   "pygments_lexer": "ipython3",
   "version": "3.8.5"
  }
 },
 "nbformat": 4,
 "nbformat_minor": 4
}
