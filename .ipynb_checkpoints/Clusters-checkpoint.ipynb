{
 "cells": [
  {
   "cell_type": "markdown",
   "metadata": {},
   "source": [
    "# Setup"
   ]
  },
  {
   "cell_type": "code",
   "execution_count": 892,
   "metadata": {},
   "outputs": [],
   "source": [
    "import numpy as np\n",
    "import pandas as pd\n",
    "from sklearn.cluster import KMeans\n",
    "from sklearn import preprocessing\n",
    "from pandas import DataFrame"
   ]
  },
  {
   "cell_type": "code",
   "execution_count": 893,
   "metadata": {},
   "outputs": [],
   "source": [
    "#grab random 200,000 entries from the original file, put them in a new csv called 'data.csv'\n",
    "\n",
    "import random\n",
    "data = pd.read_csv('read_data.csv')\n",
    "\n",
    "n =  len(data)\n",
    "s = 200000 \n",
    "skip = sorted(random.sample(range(1,n+1),n-s)) \n",
    "data = pd.read_csv('read_data.csv', skiprows=skip)\n",
    "data.to_csv(\"data.csv\", index=False)"
   ]
  },
  {
   "cell_type": "code",
   "execution_count": 894,
   "metadata": {},
   "outputs": [
    {
     "name": "stdout",
     "output_type": "stream",
     "text": [
      "<class 'pandas.core.frame.DataFrame'>\n",
      "RangeIndex: 200000 entries, 0 to 199999\n",
      "Data columns (total 15 columns):\n",
      " #   Column     Non-Null Count   Dtype  \n",
      "---  ------     --------------   -----  \n",
      " 0   StartTime  200000 non-null  object \n",
      " 1   Dur        200000 non-null  float64\n",
      " 2   Proto      200000 non-null  object \n",
      " 3   SrcAddr    200000 non-null  object \n",
      " 4   Sport      199353 non-null  object \n",
      " 5   Dir        200000 non-null  object \n",
      " 6   DstAddr    200000 non-null  object \n",
      " 7   Dport      199698 non-null  object \n",
      " 8   State      200000 non-null  object \n",
      " 9   sTos       199233 non-null  float64\n",
      " 10  dTos       186139 non-null  float64\n",
      " 11  TotPkts    200000 non-null  int64  \n",
      " 12  TotBytes   200000 non-null  int64  \n",
      " 13  SrcBytes   200000 non-null  int64  \n",
      " 14  Label      200000 non-null  object \n",
      "dtypes: float64(3), int64(3), object(9)\n",
      "memory usage: 22.9+ MB\n",
      "None\n"
     ]
    }
   ],
   "source": [
    "print(data.info())"
   ]
  },
  {
   "cell_type": "markdown",
   "metadata": {},
   "source": [
    "# Clean the Data"
   ]
  },
  {
   "cell_type": "markdown",
   "metadata": {},
   "source": [
    "##  Drop missing entries"
   ]
  },
  {
   "cell_type": "code",
   "execution_count": 895,
   "metadata": {},
   "outputs": [],
   "source": [
    "#Drop any rows with missing data\n",
    "\n",
    "data.dropna(inplace = True)"
   ]
  },
  {
   "cell_type": "markdown",
   "metadata": {},
   "source": [
    "## Convert all the data to numerical values"
   ]
  },
  {
   "cell_type": "code",
   "execution_count": 896,
   "metadata": {},
   "outputs": [],
   "source": [
    "#Set Dummy Values\n",
    "\n",
    "labelEncoder = preprocessing.LabelEncoder()\n",
    "labelEncoder.fit(data['Proto'])\n",
    "data['Proto'] = labelEncoder.transform(data['Proto'])\n",
    "\n",
    "labelEncoder.fit(data['State'])\n",
    "data['State'] = labelEncoder.transform(data['State'])\n",
    "\n",
    "labelEncoder.fit(data['Dir'])\n",
    "data['Dir'] = labelEncoder.transform(data['Dir'])\n"
   ]
  },
  {
   "cell_type": "code",
   "execution_count": 897,
   "metadata": {},
   "outputs": [],
   "source": [
    "#convert StartTime to epoch\n",
    "\n",
    "start_time = data['StartTime'].tolist()\n",
    "\n",
    "for index in range(0, len(start_time)):\n",
    "    start_time[index] = pd.to_datetime(start_time[index]).timestamp() \n",
    "    \n",
    "data['StartTime'] = start_time \n"
   ]
  },
  {
   "cell_type": "code",
   "execution_count": 898,
   "metadata": {},
   "outputs": [],
   "source": [
    "#Convert dst/src addresses to numerical values (delete the row if the value cannot be converted)\n",
    "\n",
    "src_addr = data['SrcAddr'].tolist()\n",
    "dst_addr = data['DstAddr'].tolist()\n",
    "\n",
    "for index in range(0, len(src_addr)):\n",
    "    try:\n",
    "        src_addr[index] = int(str(src_addr[index]).replace('.', ''))\n",
    "    except: \n",
    "        data = data.drop(data.index[index])\n",
    "    \n",
    "for index in range(0, len(dst_addr)):\n",
    "    try: \n",
    "        dst_addr[index] = int(str(dst_addr[index]).replace('.', ''))\n",
    "    except: \n",
    "        data = data.drop(data.index[index])\n",
    "    \n",
    "data[\"SrcAddr\"] = src_addr\n",
    "data[\"DstAddr\"] = dst_addr\n",
    "data.to_csv(\"data.csv\", index=False)\n",
    "\n"
   ]
  },
  {
   "cell_type": "code",
   "execution_count": 899,
   "metadata": {},
   "outputs": [],
   "source": [
    "#Convert Sport and Dport to numerical values\n",
    "\n",
    "rows = list(data['Sport'])\n",
    "for row_index in range(0, len(rows)):\n",
    "    try:\n",
    "        rows[row_index] = row[row_index].astype(np.float32)\n",
    "    except:\n",
    "        rows[row_index] = 0\n",
    "data['Sport'] = rows\n",
    "\n",
    "\n",
    "rows = list(data['Dport'])\n",
    "for row_index in range(0, len(rows)):\n",
    "    try:\n",
    "        rows[row_index] = rows[row_index].astype(np.float32)\n",
    "    except:\n",
    "        rows[row_index] = 0\n",
    "data['Dport'] = rows"
   ]
  },
  {
   "cell_type": "code",
   "execution_count": 900,
   "metadata": {},
   "outputs": [],
   "source": [
    "# Convert Label column to numerical values. 1 if botnet, 0 if benign. \n",
    "# Store the botnet and benign flows in separate csv files.\n",
    "\n",
    "\n",
    "# create a list of all the labels\n",
    "label_entries = list(data['Label'])\n",
    "\n",
    "#create lists for storing botnet and benign flows\n",
    "botnets = list()\n",
    "benign = list()\n",
    "\n",
    "#convert botnet entries to 1, benign to 0\n",
    "index = 0\n",
    "for entry in data['Label']:\n",
    "    # non-TCP and UDP protocols are outliers too, so remove them\n",
    "    if not 'TCP' in entry and not 'UDP' in entry:\n",
    "        label_entries[index] = -1\n",
    "    else:\n",
    "        if 'botnet' in entry or 'Botnet' in entry:\n",
    "            label_entries[index] = 1\n",
    "\n",
    "        else:\n",
    "            if not entry == 1 and not entry == 0:\n",
    "                label_entries[index] = 0\n",
    "    index += 1\n",
    "        \n",
    "data['Label'] = label_entries\n",
    "data.to_csv(\"data.csv\", index=False)\n",
    "\n",
    "\n",
    "# Store the benign and botnet data in separate arrays\n",
    "# Convert benign and botnet to dataframes, save in csv files\n",
    "\n",
    "index = 0\n",
    "for entry in data['Label']:\n",
    "    if entry == 1:\n",
    "        botnets.append(list(data.iloc[index]))\n",
    "    elif entry == 0:\n",
    "        benign.append(list(data.iloc[index]))\n",
    "    index += 1\n",
    "\n",
    "benign = DataFrame (benign,columns=list(data.columns))\n",
    "botnets = DataFrame (botnets,columns=list(data.columns))\n",
    "\n",
    "botnets.to_csv(\"botnet.csv\", index=False)\n",
    "benign.to_csv(\"benign.csv\", index=False)\n",
    "        \n"
   ]
  },
  {
   "cell_type": "code",
   "execution_count": 901,
   "metadata": {},
   "outputs": [],
   "source": [
    "#remove outliers\n",
    "\n",
    "from numpy.random import seed\n",
    "from numpy.random import randn\n",
    "from numpy import mean\n",
    "from numpy import std\n",
    "\n",
    "\n",
    "no_outliers = list()\n",
    "outliers = list()\n",
    "\n",
    "#loop through each relevant column to find the outliers\n",
    "for name in ['Dur', 'TotBytes', 'SrcBytes', 'TotPkts']:\n",
    "    \n",
    "    col = benign[name]\n",
    "    \n",
    "    # calculate summary statistics\n",
    "    data_mean, data_std = mean(col), std(col)\n",
    "    \n",
    "    # identify outliers\n",
    "    cut_off = data_std * 3\n",
    "    lower, upper = data_mean - cut_off, data_mean + cut_off\n",
    "\n",
    "    # find locations of the outliers\n",
    "    index = 0\n",
    "    for x in col:\n",
    "        #check for protocol outliers\n",
    "        if name == 'Label':\n",
    "            if x == -1:\n",
    "                outliers.append(index)\n",
    "                \n",
    "        if x < lower or x > upper:\n",
    "            outliers.append(index)\n",
    "        index += 1\n",
    "    \n",
    "#remove duplicates\n",
    "outliers = list(dict.fromkeys(outliers))   \n"
   ]
  },
  {
   "cell_type": "code",
   "execution_count": 902,
   "metadata": {},
   "outputs": [],
   "source": [
    "# Combine the reduced list of benign flows with the botnet flows\n",
    "# Convert the list to csv\n",
    "\n",
    "no_outliers = DataFrame (pd.concat([benign.drop(benign.index[outliers]), botnets], ignore_index=True))\n",
    "\n",
    "no_outliers.to_csv(\"no_outliers.csv\", index=False)\n",
    "    "
   ]
  },
  {
   "cell_type": "markdown",
   "metadata": {},
   "source": [
    "# Visualize Data"
   ]
  },
  {
   "cell_type": "code",
   "execution_count": 904,
   "metadata": {},
   "outputs": [
    {
     "data": {
      "image/png": "[encoded data removed]",
      "text/plain": [
       "<Figure size 432x288 with 1 Axes>"
      ]
     },
     "metadata": {
      "needs_background": "light"
     },
     "output_type": "display_data"
    },
    {
     "data": {
      "image/png": "[encoded data removed]",
      "text/plain": [
       "<Figure size 432x288 with 1 Axes>"
      ]
     },
     "metadata": {
      "needs_background": "light"
     },
     "output_type": "display_data"
    },
    {
     "data": {
      "image/png": "[encoded data removed]",
      "text/plain": [
       "<Figure size 432x288 with 1 Axes>"
      ]
     },
     "metadata": {
      "needs_background": "light"
     },
     "output_type": "display_data"
    },
    {
     "data": {
      "image/png": "[encoded data removed]",
      "text/plain": [
       "<Figure size 432x288 with 1 Axes>"
      ]
     },
     "metadata": {
      "needs_background": "light"
     },
     "output_type": "display_data"
    }
   ],
   "source": [
    "from matplotlib import pyplot as plt\n",
    "# TotBytes\n",
    "plt.title(\"State of Botnets vs State of Regular Flows\")\n",
    "plt.xlabel(\"TotBytes\")\n",
    "plt.ylabel(\"TotBytes\")\n",
    "plt.scatter(data.loc[data['Label'] == 0]['TotBytes'],data.loc[data['Label'] == 0]['TotBytes'],color='red')\n",
    "plt.scatter(data.loc[data['Label'] == 1]['TotBytes'],data.loc[data['Label'] == 1]['TotBytes'],color='green')\n",
    "plt.show()\n",
    "\n",
    "plt.title(\"State of Botnets vs State of Regular Flows\")\n",
    "plt.xlabel(\"State\")\n",
    "plt.ylabel(\"State\")\n",
    "plt.scatter(data.loc[data['Label'] == 0]['State'],data.loc[data['Label'] == 0]['State'],color='red')\n",
    "plt.scatter(data.loc[data['Label'] == 1]['State'],data.loc[data['Label'] == 1]['State'],color='green')\n",
    "plt.show()\n",
    "\n",
    "plt.title(\"State of Botnets vs State of Regular Flows\")\n",
    "plt.xlabel(\"SrcBytes\")\n",
    "plt.ylabel(\"SrcBytes\")\n",
    "plt.scatter(data.loc[data['Label'] == 0]['SrcBytes'],data.loc[data['Label'] == 0]['SrcBytes'],color='red')\n",
    "plt.scatter(data.loc[data['Label'] == 1]['SrcBytes'],data.loc[data['Label'] == 1]['SrcBytes'],color='green')\n",
    "plt.show()\n",
    "\n",
    "plt.title(\"State of Botnets vs State of Regular Flows\")\n",
    "plt.xlabel(\"TotPkts\")\n",
    "plt.ylabel(\"TotPkts\")\n",
    "plt.scatter(data.loc[data['Label'] == 0]['TotPkts'],data.loc[data['Label'] == 0]['TotPkts'],color='red')\n",
    "plt.scatter(data.loc[data['Label'] == 1]['TotPkts'],data.loc[data['Label'] == 1]['TotPkts'],color='green')\n",
    "plt.show()"
   ]
  },
  {
   "cell_type": "markdown",
   "metadata": {},
   "source": [
    "# K-Means Clustering"
   ]
  },
  {
   "cell_type": "code",
   "execution_count": 1,
   "metadata": {},
   "outputs": [],
   "source": [
    "import numpy as np\n",
    "import pandas as pd\n",
    "from sklearn.datasets import load_digits\n",
    "from sklearn.model_selection import train_test_split\n",
    "from sklearn.linear_model import LogisticRegression\n",
    "from sklearn.cluster import KMeans\n",
    "from sklearn.metrics import accuracy_score\n",
    "\n",
    "class clust():\n",
    "    def _load_data(self, sklearn_load_ds):\n",
    "        data = sklearn_load_ds\n",
    "        X = pd.DataFrame(data.data)\n",
    "        self.X_train, self.X_test, self.y_train, self.y_test = train_test_split(X, data.target, test_size=0.3, random_state=42)\n",
    "        \n",
    "        \n",
    "    def __init__(self, sklearn_load_ds):\n",
    "        self._load_data(sklearn_load_ds)\n",
    "    \n",
    "    \n",
    "    def classify(self, model=LogisticRegression(random_state=42)):\n",
    "        model.fit(self.X_train, self.y_train)\n",
    "        y_pred = model.predict(self.X_test)\n",
    "        print('Accuracy: {}'.format(accuracy_score(self.y_test, y_pred)))\n",
    "\n",
    "\n",
    "    def Kmeans(self, output='add'):\n",
    "        n_clusters = len(np.unique(self.y_train))\n",
    "        clf = KMeans(n_clusters = n_clusters, random_state=42)\n",
    "        clf.fit(self.X_train)\n",
    "        y_labels_train = clf.labels_\n",
    "        y_labels_test = clf.predict(self.X_test)\n",
    "        if output == 'add':\n",
    "            self.X_train['km_clust'] = y_labels_train\n",
    "            self.X_test['km_clust'] = y_labels_test\n",
    "        elif output == 'replace':\n",
    "            self.X_train = y_labels_train[:, np.newaxis]\n",
    "            self.X_test = y_labels_test[:, np.newaxis]\n",
    "        else:\n",
    "            raise ValueError('output should be either add or replace')\n",
    "        return self"
   ]
  },
  {
   "cell_type": "code",
   "execution_count": 920,
   "metadata": {
    "scrolled": true
   },
   "outputs": [
    {
     "name": "stdout",
     "output_type": "stream",
     "text": [
      "10\n",
      "20\n",
      "30\n",
      "40\n",
      "50\n",
      "10\n"
     ]
    },
    {
     "data": {
      "image/png": "[encoded data removed]",
      "text/plain": [
       "<Figure size 432x288 with 1 Axes>"
      ]
     },
     "metadata": {
      "needs_background": "light"
     },
     "output_type": "display_data"
    },
    {
     "name": "stdout",
     "output_type": "stream",
     "text": [
      "20\n"
     ]
    },
    {
     "data": {
      "image/png": "[encoded data removed]",
      "text/plain": [
       "<Figure size 432x288 with 1 Axes>"
      ]
     },
     "metadata": {
      "needs_background": "light"
     },
     "output_type": "display_data"
    },
    {
     "name": "stdout",
     "output_type": "stream",
     "text": [
      "30\n"
     ]
    },
    {
     "data": {
      "image/png": "[encoded data removed]",
      "text/plain": [
       "<Figure size 432x288 with 1 Axes>"
      ]
     },
     "metadata": {
      "needs_background": "light"
     },
     "output_type": "display_data"
    },
    {
     "name": "stdout",
     "output_type": "stream",
     "text": [
      "40\n"
     ]
    },
    {
     "data": {
      "image/png": "[encoded data removed]",
      "text/plain": [
       "<Figure size 432x288 with 1 Axes>"
      ]
     },
     "metadata": {
      "needs_background": "light"
     },
     "output_type": "display_data"
    },
    {
     "name": "stdout",
     "output_type": "stream",
     "text": [
      "50\n"
     ]
    },
    {
     "data": {
      "image/png": "[encoded data removed]",
      "text/plain": [
       "<Figure size 432x288 with 1 Axes>"
      ]
     },
     "metadata": {
      "needs_background": "light"
     },
     "output_type": "display_data"
    }
   ],
   "source": [
    "from sklearn.cluster import KMeans\n",
    "\n",
    "#get all the features except StartTime and Label\n",
    "x = no_outliers.iloc[:,1:14]\n",
    "\n",
    "\n",
    "#counts the number of botnets and benign flows in each cluster\n",
    "def count_groups(n, clusters):\n",
    "    \n",
    "    # Make a list of dictionaries for storing counts of botnet and benign flows\n",
    "    counts = list()\n",
    "    for index in range(0, n):\n",
    "        counts.append( {'botnet': 0, 'benign': 0} )\n",
    "        \n",
    "    for index in range(0, len(clusters)):\n",
    "        \n",
    "        # if it's benign\n",
    "        if int(no_outliers['Label'][index]) == 0:\n",
    "            counts[clusters[index]]['benign'] += 1\n",
    "        # if it's a botnet\n",
    "        else:\n",
    "            counts[clusters[index]]['botnet'] += 1\n",
    "            \n",
    "    return counts\n",
    "\n",
    "\n",
    "# Test on 1 - 50 Clusters\n",
    "NUM_CLUSTERS = 50\n",
    "for num in range(10, NUM_CLUSTERS + 1, 10):\n",
    "    kmeans = KMeans(n_clusters=num)\n",
    "    kmeans.fit(x)\n",
    "    identified_clusters = kmeans.fit_predict(x)\n",
    "    clusters_set = count_groups(num, identified_clusters)\n",
    "    print(num)\n",
    "\n",
    "# Plot the botnet vs benign for each cluster\n",
    "for n in range(10, len(clusters_set)+1, 10):\n",
    "    print(n)\n",
    "    for cluster in range(1, n):\n",
    "        plt.scatter(clusters_set[cluster]['botnet'], clusters_set[cluster]['benign'])\n",
    "    plt.show()\n",
    "\n",
    "\n",
    "\n",
    "\n"
   ]
  },
  {
   "cell_type": "code",
   "execution_count": 935,
   "metadata": {},
   "outputs": [
    {
     "name": "stdout",
     "output_type": "stream",
     "text": [
      "With 10 clusters, the cluster contains 1578 botnets and 113455 benign\n",
      "With 20 clusters, the cluster contains 1521 botnets and 111869 benign\n",
      "With 30 clusters, the cluster contains 1093 botnets and 51872 benign\n",
      "With 40 clusters, the cluster contains 983 botnets and 48937 benign\n",
      "With 50 clusters, the cluster contains 983 botnets and 48902 benign\n"
     ]
    }
   ],
   "source": [
    "# Find the Cluster with the most botnets for each iteration\n",
    "\n",
    "# Test on 1 - 50 Clusters\n",
    "NUM_CLUSTERS = 50\n",
    "for num in range(10, NUM_CLUSTERS + 1, 10):\n",
    "    kmeans = KMeans(n_clusters=num)\n",
    "    kmeans.fit(x)\n",
    "    identified_clusters = kmeans.fit_predict(x)\n",
    "    clusters_set = count_groups(num, identified_clusters)\n",
    "    max_botnet = 0\n",
    "    max_benign = 0\n",
    "    \n",
    "    for dictionary in clusters_set:\n",
    "        if max_botnet < dictionary['botnet']:\n",
    "            max_botnet = dictionary['botnet']\n",
    "            max_benign = dictionary['benign']\n",
    "    print(\"With %d clusters, the cluster contains %d botnets and %d benign\" % (num, max_botnet, max_benign))\n"
   ]
  },
  {
   "cell_type": "markdown",
   "metadata": {},
   "source": [
    "# Debugging"
   ]
  },
  {
   "cell_type": "code",
   "execution_count": null,
   "metadata": {},
   "outputs": [],
   "source": [
    "print(len(no_outliers))\n",
    "print(len(botnets))\n",
    "print(len(benign))\n",
    "print(len(data))"
   ]
  },
  {
   "cell_type": "markdown",
   "metadata": {},
   "source": [
    "# Useful Resources:\n",
    "\n",
    "https://www.geeksforgeeks.org/convert-a-categorical-variable-into-dummy-variables/?ref=rp"
   ]
  }
 ],
 "metadata": {
  "kernelspec": {
   "display_name": "Python 3",
   "language": "python",
   "name": "python3"
  },
  "language_info": {
   "codemirror_mode": {
    "name": "ipython",
    "version": 3
   },
   "file_extension": ".py",
   "mimetype": "text/x-python",
   "name": "python",
   "nbconvert_exporter": "python",
   "pygments_lexer": "ipython3",
   "version": "3.8.5"
  }
 },
 "nbformat": 4,
 "nbformat_minor": 4
}
