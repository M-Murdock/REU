{
 "cells": [
  {
   "cell_type": "markdown",
   "metadata": {},
   "source": [
    "Given a cleaned dataset, performs hierarchical clustering. Saves results to `combined_data/hierarchical.xlsx`"
   ]
  },
  {
   "cell_type": "markdown",
   "metadata": {},
   "source": [
    "# Imports"
   ]
  },
  {
   "cell_type": "code",
   "execution_count": 111,
   "metadata": {},
   "outputs": [],
   "source": [
    "import numpy as np\n",
    "import pandas as pd\n",
    "import scipy.cluster.hierarchy as sch\n",
    "import matplotlib.pyplot as plt\n",
    "from xlwt import Workbook"
   ]
  },
  {
   "cell_type": "markdown",
   "metadata": {},
   "source": [
    "Perform Hierarchical Clustering"
   ]
  },
  {
   "cell_type": "markdown",
   "metadata": {},
   "source": [
    "Define the number of clusters"
   ]
  },
  {
   "cell_type": "code",
   "execution_count": 112,
   "metadata": {},
   "outputs": [],
   "source": [
    "NUM_CLUSTERS = 15"
   ]
  },
  {
   "cell_type": "code",
   "execution_count": 113,
   "metadata": {},
   "outputs": [],
   "source": [
    "# grab data\n",
    "botnets = pd.read_csv(\"combined_data/combined_datasets.csv\")\n",
    "\n",
    "# get all the features except StartTime and Label\n",
    "x = botnets.iloc[:,1:14]\n",
    "botnet_header = botnets['Label'].tolist()"
   ]
  },
  {
   "cell_type": "code",
   "execution_count": 114,
   "metadata": {},
   "outputs": [],
   "source": [
    "# dendrogram = sch.dendrogram(sch.linkage(x, method=\"ward\"))\n",
    "# plt.title('Dendrogram')\n",
    "# plt.xlabel('')\n",
    "# plt.ylabel('')\n",
    "# plt.show()"
   ]
  },
  {
   "cell_type": "markdown",
   "metadata": {},
   "source": [
    "Perform hierarchical clustering"
   ]
  },
  {
   "cell_type": "code",
   "execution_count": 130,
   "metadata": {},
   "outputs": [],
   "source": [
    "from sklearn.cluster import AgglomerativeClustering\n",
    "hc = AgglomerativeClustering(NUM_CLUSTERS, affinity = 'euclidean', linkage='ward')\n",
    "y_hc = hc.fit_predict(x)\n"
   ]
  },
  {
   "cell_type": "code",
   "execution_count": 131,
   "metadata": {},
   "outputs": [],
   "source": [
    "# create a list of dictionaries. Each index in the list represents a cluster. Each dictionary represents the counts in that cluster.\n",
    "clusters = [] \n",
    "for i in range(0, NUM_CLUSTERS):\n",
    "    clusters.append({'Neris': 0, 'Virut': 0, 'Murlo': 0, 'Sogou': 0, 'Rbot': 0, 'Menti': 0})\n",
    "\n",
    "\n",
    "# loop through each bot. Identify its cluster. \n",
    "index = 0\n",
    "for cluster_num in y_hc: # for each cluster, count the number of each botnet family present\n",
    "    clusters[cluster_num][botnet_header[index]] += 1\n",
    "    index += 1 # move to the next bot in the list\n"
   ]
  },
  {
   "cell_type": "code",
   "execution_count": 132,
   "metadata": {},
   "outputs": [
    {
     "data": {
      "image/png": "[encoded data removed]",
      "text/plain": [
       "<Figure size 432x288 with 1 Axes>"
      ]
     },
     "metadata": {
      "needs_background": "light"
     },
     "output_type": "display_data"
    }
   ],
   "source": [
    "df = pd.DataFrame(clusters)\n",
    "df.plot(kind=\"bar\", stacked=True)\n",
    "sheet_name = 'Sheet1'\n",
    "writer = pd.ExcelWriter('combined_data/hierarchical.xlsx', engine='xlsxwriter')\n",
    "df.to_excel(writer, sheet_name=sheet_name)\n",
    "\n",
    "workbook = writer.book\n",
    "worksheet = writer.sheets[sheet_name]\n",
    "\n",
    "chart = workbook.add_chart({'type': 'bar', 'subtype': 'stacked'})\n",
    "\n",
    "# cat_botnet = list(df.columns.values)\n",
    "                           \n",
    "# Configure the charts from the dataframe data\n",
    "for col_num in range(1, len(clusters[0].keys()) + 1):\n",
    "    \n",
    "    letter = chr(ord('@')+col_num)\n",
    "    str = '={}!${}$1:${}{}'.format(sheet_name, letter, letter, NUM_CLUSTERS)\n",
    "    \n",
    "    chart.add_series({\n",
    "        'name': cat_botnet[col_num-1],\n",
    "        'values': str,\n",
    "    })\n",
    "                           \n",
    "worksheet.insert_chart('A40', chart)\n",
    "writer.save()"
   ]
  },
  {
   "cell_type": "code",
   "execution_count": null,
   "metadata": {},
   "outputs": [],
   "source": [
    "print('success!')"
   ]
  }
 ],
 "metadata": {
  "kernelspec": {
   "display_name": "Python 3",
   "language": "python",
   "name": "python3"
  },
  "language_info": {
   "codemirror_mode": {
    "name": "ipython",
    "version": 3
   },
   "file_extension": ".py",
   "mimetype": "text/x-python",
   "name": "python",
   "nbconvert_exporter": "python",
   "pygments_lexer": "ipython3",
   "version": "3.8.5"
  }
 },
 "nbformat": 4,
 "nbformat_minor": 4
}
