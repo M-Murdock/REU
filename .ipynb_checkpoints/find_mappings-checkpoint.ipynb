{
 "cells": [
  {
   "cell_type": "markdown",
   "metadata": {},
   "source": [
    "Finds the euclidean distances between centroids from 2 datasets\n",
    "\n",
    "Note: Run this notebook from run_mappings.ipynb"
   ]
  },
  {
   "cell_type": "markdown",
   "metadata": {},
   "source": [
    "# Imports"
   ]
  },
  {
   "cell_type": "code",
   "execution_count": 2,
   "metadata": {},
   "outputs": [],
   "source": [
    "import numpy as np\n",
    "import pandas as pd\n",
    "import xlwt\n",
    "from xlwt import Workbook\n",
    "from sklearn.metrics.pairwise import euclidean_distances"
   ]
  },
  {
   "cell_type": "markdown",
   "metadata": {},
   "source": [
    "# Build Table"
   ]
  },
  {
   "cell_type": "markdown",
   "metadata": {},
   "source": [
    "We are given a list of the centroids for datasets 1 and 2 (centroids_list[0] contains the\n",
    "centroids from the first dataset, centroids_list[1] the second). Using this, a 30 x 30 table is generated, containing the euclidean distances between each of the centroids in both datasets\n"
   ]
  },
  {
   "cell_type": "code",
   "execution_count": null,
   "metadata": {},
   "outputs": [],
   "source": [
    "# read through each cluster in dataset 1, compare it to the nth element of dataset 2\n",
    "# by finding the euclidean distance, then store the distances in an array\n",
    "# ----------------------------------\n",
    "\n",
    "print(centroids_list[0][0])\n",
    "    \n",
    "dist_table = np.array([[ np.linalg.norm(i-j) for j in centroids_list[0][0]] for i in centroids_list[1][0]])\n",
    "# euclidean_distances(centroids_list[0], centroids_list[1])\n",
    "\n",
    "# store dist_table as a dataframe so that it can be easily placed into an excel sheet\n",
    "\n",
    "df = pd.DataFrame (dist_table)\n"
   ]
  },
  {
   "cell_type": "markdown",
   "metadata": {},
   "source": [
    "Save the table of euclidean distances to an excel workbook "
   ]
  },
  {
   "cell_type": "code",
   "execution_count": null,
   "metadata": {},
   "outputs": [],
   "source": [
    "# create workbook\n",
    "wb = Workbook()\n",
    "\n",
    "# create sheet\n",
    "sheet = wb.add_sheet('Distances Between Clusters')\n",
    "\n",
    "# create a string with the numbers of datasets being compared -- this will be \n",
    "# part of the file name which will contain the final results\n",
    "file_nums_string = '{}-{}'.format(file_nums[0], file_nums[1])\n",
    "\n",
    "# name of the file for storing the results\n",
    "FILE = 'results/Euclidean_Dist_{}.xls'.format(file_nums_string)\n",
    "\n",
    "# save the workbook to the results folder\n",
    "df.to_excel(FILE, index=False)\n",
    "        "
   ]
  }
 ],
 "metadata": {
  "kernelspec": {
   "display_name": "Python 3",
   "language": "python",
   "name": "python3"
  },
  "language_info": {
   "codemirror_mode": {
    "name": "ipython",
    "version": 3
   },
   "file_extension": ".py",
   "mimetype": "text/x-python",
   "name": "python",
   "nbconvert_exporter": "python",
   "pygments_lexer": "ipython3",
   "version": "3.8.5"
  }
 },
 "nbformat": 4,
 "nbformat_minor": 4
}
