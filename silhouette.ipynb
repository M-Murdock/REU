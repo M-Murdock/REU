{
 "cells": [
  {
   "cell_type": "markdown",
   "metadata": {},
   "source": [
    "Given a file, calculates the silhouette values"
   ]
  },
  {
   "cell_type": "markdown",
   "metadata": {},
   "source": [
    "# Imports"
   ]
  },
  {
   "cell_type": "code",
   "execution_count": 8,
   "metadata": {},
   "outputs": [],
   "source": [
    "import numpy as np\n",
    "import pandas as pd\n",
    "from sklearn.cluster import KMeans\n",
    "from sklearn import preprocessing\n",
    "from pandas import DataFrame"
   ]
  },
  {
   "cell_type": "markdown",
   "metadata": {},
   "source": [
    "specify the file to work with"
   ]
  },
  {
   "cell_type": "code",
   "execution_count": 9,
   "metadata": {},
   "outputs": [],
   "source": [
    "file = \"working_data/no_outliers.csv\""
   ]
  },
  {
   "cell_type": "code",
   "execution_count": 10,
   "metadata": {},
   "outputs": [],
   "source": [
    "# read in data\n",
    "no_outliers = pd.read_csv(file)\n",
    "x = no_outliers.iloc[:,1:14]"
   ]
  },
  {
   "cell_type": "markdown",
   "metadata": {},
   "source": [
    "# Calculates Silhouette Values"
   ]
  },
  {
   "cell_type": "code",
   "execution_count": null,
   "metadata": {},
   "outputs": [
    {
     "name": "stdout",
     "output_type": "stream",
     "text": [
      "10 clusters, silhouette score: 0.807267\n"
     ]
    }
   ],
   "source": [
    "# Find silhouette values for various numbers of clusters\n",
    "from sklearn.metrics import silhouette_score\n",
    "\n",
    "NUM_CLUSTERS=50\n",
    "for num in range(10, NUM_CLUSTERS + 1, 10):\n",
    "    kmeans = KMeans(n_clusters=num)\n",
    "    kmeans.fit(x)\n",
    "    labels=kmeans.labels_\n",
    "    silhouette = silhouette_score(x, labels)\n",
    "    print(\"%d clusters, silhouette score: %f\" % (num, silhouette))\n",
    "        "
   ]
  }
 ],
 "metadata": {
  "kernelspec": {
   "display_name": "Python 3",
   "language": "python",
   "name": "python3"
  },
  "language_info": {
   "codemirror_mode": {
    "name": "ipython",
    "version": 3
   },
   "file_extension": ".py",
   "mimetype": "text/x-python",
   "name": "python",
   "nbconvert_exporter": "python",
   "pygments_lexer": "ipython3",
   "version": "3.8.5"
  }
 },
 "nbformat": 4,
 "nbformat_minor": 4
}
