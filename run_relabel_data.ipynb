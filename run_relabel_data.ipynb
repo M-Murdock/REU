{
 "cells": [
  {
   "cell_type": "code",
   "execution_count": 2,
   "metadata": {},
   "outputs": [],
   "source": [
    "file = 0\n",
    "bots = ['Neris', 'Neris', 'Rbot', 'Rbot', 'Virut', 'Menti', 'Sogou', 'Murlo', '', '', '', '', 'Virut']\n",
    "for i in range (1,14):\n",
    "    if i == 9 or i == 10 or i == 11 or i == 12:\n",
    "        continue\n",
    "    file = i\n",
    "    bot = bots[i-1]\n",
    "    %run relabel_data.ipynb"
   ]
  },
  {
   "cell_type": "code",
   "execution_count": null,
   "metadata": {},
   "outputs": [],
   "source": []
  }
 ],
 "metadata": {
  "kernelspec": {
   "display_name": "Python 3",
   "language": "python",
   "name": "python3"
  },
  "language_info": {
   "codemirror_mode": {
    "name": "ipython",
    "version": 3
   },
   "file_extension": ".py",
   "mimetype": "text/x-python",
   "name": "python",
   "nbconvert_exporter": "python",
   "pygments_lexer": "ipython3",
   "version": "3.8.5"
  }
 },
 "nbformat": 4,
 "nbformat_minor": 4
}
